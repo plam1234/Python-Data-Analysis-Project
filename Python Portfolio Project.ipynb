{
 "cells": [
  {
   "cell_type": "code",
   "execution_count": 1,
   "metadata": {},
   "outputs": [],
   "source": [
    "# Importing Libs\n",
    "import pandas as pd\n",
    "import matplotlib.pyplot as plt\n",
    "plt.close(\"all\")\n",
    "\n",
    "# Data Path Find / r = read csv file\n",
    "data = pd.read_csv (r'H:\\Bootcamp and Apprenticeship\\winemag-data_first150k.csv')\n",
    "#Show original\n",
    "#print (data)\n",
    "\n",
    "#Business Questions:\n",
    "# 1. Does Higher Rating effect the price? Nope\n",
    "# 2. Which Country has the highest average Rating and Price? England with an average rating of 92.88 at $2.96 per bottle\n",
    "\n",
    "# Creation of Data Frame\n",
    "pd.options.display.max_rows = 100\n",
    "df = pd.DataFrame(data, columns=['country','province','designation','points','variety','winery','price'])\n",
    "\n",
    "# Renaming columns\n",
    "df.columns = ['Country','State/Province','Location','Ratings','Name','Maker','Per Case in $']"
   ]
  },
  {
   "cell_type": "code",
   "execution_count": null,
   "metadata": {},
   "outputs": [],
   "source": [
    "# Changing Index of Data Frame\n",
    "countryIndex = df.set_index('Country','State/Province')\n",
    "caseIndex = df.set_index('Per Case in $')\n",
    "\n",
    "# Limiting Results\n",
    "countryIndex[:15]"
   ]
  },
  {
   "cell_type": "code",
   "execution_count": null,
   "metadata": {},
   "outputs": [],
   "source": [
    "# Show price bottle (create calculation field)\n",
    "#df['Per Bottle in $'] = df['Per Case in $'] /16\n",
    "pBtl = df['Per Case in $'] /16\n",
    "perBottle = pBtl.round(decimals=2)\n",
    "df['Per Bottle in $'] = perBottle \n",
    "\n",
    "# Limit the amouunt of results shown\n",
    "df.loc[0:15, ['Country','State/Province','Location','Ratings','Name','Maker','Per Case in $','Per Bottle in $']]\n",
    "#print(perBottle.round(decimals= 2))"
   ]
  },
  {
   "cell_type": "code",
   "execution_count": null,
   "metadata": {},
   "outputs": [],
   "source": [
    "# Sorting Values\n",
    "# Descending Order of Price per Bottle\n",
    "df.sort_values(by='Per Bottle in $', ascending= False)\n"
   ]
  },
  {
   "cell_type": "code",
   "execution_count": null,
   "metadata": {},
   "outputs": [],
   "source": [
    "#Selecting Specific Data points wih pandas\n",
    "# First Row and First Column\n",
    "df.iloc[0:1, 0:1]\n",
    "# Two Rows and First Column [uncomment below to show]\n",
    "#df.iloc[0:2, 0:1]"
   ]
  },
  {
   "cell_type": "code",
   "execution_count": null,
   "metadata": {},
   "outputs": [],
   "source": [
    "# Grouping Data Frame w/ Groupby\n",
    "dfMean = df.groupby('Country').mean()\n",
    "dfMean.sort_values(['Ratings','Per Bottle in $'], ascending= False)"
   ]
  },
  {
   "cell_type": "code",
   "execution_count": null,
   "metadata": {},
   "outputs": [],
   "source": [
    "# Descriptive Statistics\n",
    "df.describe(include='all')\n",
    "# Enter Column name in [] to show different details. | Count: count | Mean: mean | Standard deviation: std | Minimum: min | Maximum: max | Quantile: (q=0.25/.50/.75)\n",
    "#df['Maker'].describe()"
   ]
  },
  {
   "cell_type": "code",
   "execution_count": null,
   "metadata": {},
   "outputs": [],
   "source": [
    "# View Colum Headers first n Rows\n",
    "df.head(1)"
   ]
  },
  {
   "cell_type": "code",
   "execution_count": null,
   "metadata": {},
   "outputs": [],
   "source": [
    "# Last n Rows in a Data Frame\n",
    "df.tail(1)"
   ]
  },
  {
   "cell_type": "code",
   "execution_count": null,
   "metadata": {},
   "outputs": [],
   "source": [
    "# Plot Chart\n",
    "df.plot(y = 'Per Bottle in $', x= 'Country', kind = 'line')\n",
    "plt.show()"
   ]
  }
 ],
 "metadata": {
  "interpreter": {
   "hash": "7d279541670c3c84221966dc0440a9a3935a845c4d757bb1f14f65a0cea78379"
  },
  "kernelspec": {
   "display_name": "Python 3.10.2 64-bit",
   "language": "python",
   "name": "python3"
  },
  "language_info": {
   "codemirror_mode": {
    "name": "ipython",
    "version": 3
   },
   "file_extension": ".py",
   "mimetype": "text/x-python",
   "name": "python",
   "nbconvert_exporter": "python",
   "pygments_lexer": "ipython3",
   "version": "3.10.2"
  },
  "orig_nbformat": 4
 },
 "nbformat": 4,
 "nbformat_minor": 2
}
